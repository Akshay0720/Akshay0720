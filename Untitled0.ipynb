{
  "nbformat": 4,
  "nbformat_minor": 0,
  "metadata": {
    "colab": {
      "provenance": [],
      "authorship_tag": "ABX9TyPLBWD/SYCCgAvnidITFm/t",
      "include_colab_link": true
    },
    "kernelspec": {
      "name": "python3",
      "display_name": "Python 3"
    },
    "language_info": {
      "name": "python"
    }
  },
  "cells": [
    {
      "cell_type": "markdown",
      "metadata": {
        "id": "view-in-github",
        "colab_type": "text"
      },
      "source": [
        "<a href=\"https://colab.research.google.com/github/Akshay0720/Akshay0720/blob/main/Untitled0.ipynb\" target=\"_parent\"><img src=\"https://colab.research.google.com/assets/colab-badge.svg\" alt=\"Open In Colab\"/></a>"
      ]
    },
    {
      "cell_type": "code",
      "execution_count": null,
      "metadata": {
        "id": "5D55QThXqvlJ",
        "colab": {
          "base_uri": "https://localhost:8080/"
        },
        "outputId": "0543ae89-8886-4305-81a0-5e69ce283ba0"
      },
      "outputs": [
        {
          "output_type": "stream",
          "name": "stdout",
          "text": [
            "Enter a First Number:2\n",
            "Enter a Second Number:2\n",
            "Multiplication of a and b is : 4\n"
          ]
        }
      ],
      "source": [
        "a = int(input(\"Enter a First Number:\"))\n",
        "b = int(input(\"Enter a Second Number:\"))\n",
        "c = a * b\n",
        "print(\"Multiplication of a and b is :\",c)"
      ]
    },
    {
      "cell_type": "code",
      "source": [
        "a = int(input(\"Enter a First Number:\"))\n",
        "b = int(input(\"Enter a Second Number:\"))\n",
        "b = a ** b\n",
        "print(\"Power of a is :\",b)"
      ],
      "metadata": {
        "colab": {
          "base_uri": "https://localhost:8080/"
        },
        "id": "1nlqYDgjruaL",
        "outputId": "7a134355-2901-4371-f074-ef6e56dc0ff7"
      },
      "execution_count": null,
      "outputs": [
        {
          "output_type": "stream",
          "name": "stdout",
          "text": [
            "Enter a First Number:3\n",
            "Enter a Second Number:4\n",
            "Power of a is : 81\n"
          ]
        }
      ]
    },
    {
      "cell_type": "code",
      "source": [
        "a=6\n",
        "b=7\n",
        "temp = a\n",
        "a=b\n",
        "b=temp\n",
        "print(\"Before a = 6 | after a  = \",a)\n",
        "print(\"Before b = 7 | after b  = \",b)"
      ],
      "metadata": {
        "colab": {
          "base_uri": "https://localhost:8080/"
        },
        "id": "6_oV928Pr6xR",
        "outputId": "2990290d-9c5a-464d-e9a1-5ad8ae0b1956"
      },
      "execution_count": null,
      "outputs": [
        {
          "output_type": "stream",
          "name": "stdout",
          "text": [
            "Before a = 6 | after a  =  7\n",
            "Before b = 7 | after b  =  6\n"
          ]
        }
      ]
    },
    {
      "cell_type": "code",
      "source": [
        "a = 10\n",
        "b = 20\n",
        "if a > b:\n",
        "    print(\"a is max value\")\n",
        "else:\n",
        "    print(\"b is max value\")"
      ],
      "metadata": {
        "colab": {
          "base_uri": "https://localhost:8080/"
        },
        "id": "9i9N7sdSsMFL",
        "outputId": "63cfe8c6-1900-4a15-9a98-e76a4de1d549"
      },
      "execution_count": null,
      "outputs": [
        {
          "output_type": "stream",
          "name": "stdout",
          "text": [
            "b is max value\n"
          ]
        }
      ]
    },
    {
      "cell_type": "code",
      "source": [
        "a = int(input(\"Enter a First Number:\"))\n",
        "b = int(input(\"Enter a Second Number:\"))\n",
        "avg = (a+b) / 2\n",
        "print(\"Avrage of a and b is :\",avg)"
      ],
      "metadata": {
        "colab": {
          "base_uri": "https://localhost:8080/"
        },
        "id": "Q4e2Z51qsjSV",
        "outputId": "7305e574-cf9c-4fdd-f8aa-a76d573e4e95"
      },
      "execution_count": null,
      "outputs": [
        {
          "output_type": "stream",
          "name": "stdout",
          "text": [
            "Enter a First Number:3\n",
            "Enter a Second Number:5\n",
            "Avrage of a and b is : 4.0\n"
          ]
        }
      ]
    },
    {
      "cell_type": "code",
      "source": [
        "lst = []\n",
        "num = int(input('How many numbers:'))\n",
        "for n in range(num):\n",
        "    numbers = int(input('enter number'))\n",
        "    lst.append(numbers)\n",
        "print(\"sum of elements in given list is :\", sum(lst))\n"
      ],
      "metadata": {
        "colab": {
          "base_uri": "https://localhost:8080/"
        },
        "id": "h701jCoLsx8h",
        "outputId": "26c75f4d-1db7-4c7d-a485-4a1a67aa3b12"
      },
      "execution_count": null,
      "outputs": [
        {
          "output_type": "stream",
          "name": "stdout",
          "text": [
            "How many numbers:2\n",
            "enter number1\n",
            "enter number2\n",
            "sum of elements in given list is : 3\n"
          ]
        }
      ]
    },
    {
      "cell_type": "code",
      "source": [],
      "metadata": {
        "id": "njMqSyZes8H1"
      },
      "execution_count": null,
      "outputs": []
    },
    {
      "cell_type": "code",
      "source": [
        "def unique_list(text_str):\n",
        "    l = text_str.split()\n",
        "    temp = []\n",
        "    for x in l:\n",
        "        if x not in temp:\n",
        "            temp.append(x)\n",
        "    return ' '.join(temp)\n",
        "\n",
        "text_str = \"\"\" i am akshay from solapur akshay from solapur.\n",
        "i am so much happy today! akshay is my name.\"\"\"\n",
        "print(\"Original String:\")\n",
        "print(text_str)\n",
        "print(\"\\nAfter removing duplicat words from the said string:\")\n",
        "print(unique_list(text_str))"
      ],
      "metadata": {
        "colab": {
          "base_uri": "https://localhost:8080/"
        },
        "id": "WWMLLaO0s8bl",
        "outputId": "5b82b07f-7a4f-4b8c-9c49-c9480736e849"
      },
      "execution_count": null,
      "outputs": [
        {
          "output_type": "stream",
          "name": "stdout",
          "text": [
            "Original String:\n",
            " i am akshay from solapur akshay from solapur.\n",
            "i am so much happy today! akshay is my name.\n",
            "\n",
            "After removing duplicat words from the said string:\n",
            "i am akshay from solapur solapur. so much happy today! is my name.\n"
          ]
        }
      ]
    },
    {
      "cell_type": "code",
      "source": [
        "def simple_intrest(p,t,r):\n",
        "    print(\"the principal is:\",p)\n",
        "    print(\"the time period is:\",t)\n",
        "    print(\"the rate of intrest is:\",r)\n",
        "\n",
        "    si = (p * t * r)/100\n",
        "\n",
        "    print('the simple Intrest is:',si)\n",
        "    return si\n",
        "simple_intrest(50000,2,2)"
      ],
      "metadata": {
        "colab": {
          "base_uri": "https://localhost:8080/"
        },
        "id": "IRuRAkjqs-sn",
        "outputId": "ccfb99b3-31c8-4857-b2a3-7374c1a6c7b1"
      },
      "execution_count": null,
      "outputs": [
        {
          "output_type": "stream",
          "name": "stdout",
          "text": [
            "the principal is: 50000\n",
            "the time period is: 2\n",
            "the rate of intrest is: 2\n",
            "the simple Intrest is: 2000.0\n"
          ]
        },
        {
          "output_type": "execute_result",
          "data": {
            "text/plain": [
              "2000.0"
            ]
          },
          "metadata": {},
          "execution_count": 8
        }
      ]
    },
    {
      "cell_type": "code",
      "source": [
        "#Q10. Take three sides of a triangle. And then calculate the area of the triangle.\n",
        "\n",
        "a = float(input(\"Enter a First side:\"))\n",
        "b = float(input(\"Enter a Second side:\"))\n",
        "c = int(input(\"Enter a third side:\"))\n",
        "\n",
        "s = (a + b + c) / 2\n",
        "\n",
        "#calculate the area\n",
        "area = (s*(s-a)*(s-b)*(s-c)) ** 0.5\n",
        "print('the area of the tringle is %0.2f' %area)"
      ],
      "metadata": {
        "colab": {
          "base_uri": "https://localhost:8080/"
        },
        "id": "aB8JOEErtJZu",
        "outputId": "3c42ea7d-8d43-4d27-c604-a942cd39c6f8"
      },
      "execution_count": null,
      "outputs": [
        {
          "output_type": "stream",
          "name": "stdout",
          "text": [
            "Enter a First side:20\n",
            "Enter a Second side:20\n",
            "Enter a third side:10\n",
            "the area of the tringle is 96.82\n"
          ]
        }
      ]
    },
    {
      "cell_type": "code",
      "source": [
        "#Q11. Calculate grade of five subjects.\n",
        "sub1 = 99\n",
        "sub2 = 97\n",
        "sub3 = 98\n",
        "sub4 = 92\n",
        "sub5 = 91\n",
        "avg = (sub1+sub2+sub3+sub4+sub5) / 5\n",
        "if(avg >= 90):\n",
        "    print(\"Grade: A\")\n",
        "elif(avg >= 80 & avg < 90):\n",
        "    print(\"Grade: B\")\n",
        "elif(avg >= 70 & avg < 80):\n",
        "    print(\"Grade: B\")\n",
        "elif(avg >= 60 & avg < 70):\n",
        "    print(\"Grade: B\")\n",
        "else:\n",
        "    print(\"Grade: F\")"
      ],
      "metadata": {
        "colab": {
          "base_uri": "https://localhost:8080/"
        },
        "id": "kQfQWMxjtQDd",
        "outputId": "7f493679-4ea8-4777-b5d2-1c417675b343"
      },
      "execution_count": null,
      "outputs": [
        {
          "output_type": "stream",
          "name": "stdout",
          "text": [
            "Grade: A\n"
          ]
        }
      ]
    },
    {
      "cell_type": "code",
      "source": [
        "#Q12.\n",
        "num = 20\n",
        "if num > 1:\n",
        "    for i in range(2,num):\n",
        "        if (num % i) == 0:\n",
        "            print(num,\"is not a prime number\")\n",
        "            print(i,\"times\",num//i,\"is\",num)\n",
        "            break\n",
        "    else:\n",
        "            print(num,\"is a prime number\")\n",
        "else:\n",
        "    print(num,\"is not a prime number\")\n"
      ],
      "metadata": {
        "id": "gYQCle0TtuNv",
        "colab": {
          "base_uri": "https://localhost:8080/"
        },
        "outputId": "950eab43-90db-4f8f-cf29-706322769c2a"
      },
      "execution_count": null,
      "outputs": [
        {
          "output_type": "stream",
          "name": "stdout",
          "text": [
            "20 is not a prime number\n",
            "2 times 10 is 20\n"
          ]
        }
      ]
    },
    {
      "cell_type": "code",
      "source": [
        "#Q13.\n",
        "start = int(input(\"enter a number:\"))\n",
        "end = int(input(\"enter a number:\"))\n",
        "for i in range(start, end+1):\n",
        "    if i>1:\n",
        "        for j in range(2,i):\n",
        "            if(i % j == 0):\n",
        "                break\n",
        "        else:\n",
        "            print(i)"
      ],
      "metadata": {
        "colab": {
          "base_uri": "https://localhost:8080/"
        },
        "id": "BkMh-0lto5Fm",
        "outputId": "ad364735-71fc-4e06-9ac3-c749f7fdcca2"
      },
      "execution_count": null,
      "outputs": [
        {
          "output_type": "stream",
          "name": "stdout",
          "text": [
            "enter a number:10\n",
            "enter a number:20\n",
            "11\n",
            "13\n",
            "17\n",
            "19\n"
          ]
        }
      ]
    },
    {
      "cell_type": "code",
      "source": [
        "#Q14.\n",
        "txt = \"Akshay\"[::-1]\n",
        "print(txt)\n"
      ],
      "metadata": {
        "colab": {
          "base_uri": "https://localhost:8080/"
        },
        "id": "yjUKNuFRo-1C",
        "outputId": "c4c68de8-3566-40bd-f1f7-9457d52ce1b8"
      },
      "execution_count": null,
      "outputs": [
        {
          "output_type": "stream",
          "name": "stdout",
          "text": [
            "yahskA\n"
          ]
        }
      ]
    },
    {
      "cell_type": "code",
      "source": [
        "#Q15.\n",
        "\n",
        "number = int(input(\"enter a Number :\"))\n",
        "revs_number = 0\n",
        "while (number > 0):\n",
        "    remainder = number % 10\n",
        "    revs_number = (revs_number * 10) + remainder\n",
        "    number = number // 10\n",
        "print(\"the reverse number is : {}\".format(revs_number))"
      ],
      "metadata": {
        "colab": {
          "base_uri": "https://localhost:8080/"
        },
        "id": "BIg1_wSmpCeR",
        "outputId": "5a9d3c6f-1d67-419a-973c-a9b6ecec60fe"
      },
      "execution_count": null,
      "outputs": [
        {
          "output_type": "stream",
          "name": "stdout",
          "text": [
            "enter a Number :123\n",
            "the reverse number is : 321\n"
          ]
        }
      ]
    },
    {
      "cell_type": "code",
      "source": [
        "#Q16\n",
        "my_str = 'aIbohphoBiA'\n",
        "my_str = my_str.casefold()\n",
        "rev_str = reversed(my_str)\n",
        "if list(my_str) == list(rev_str):\n",
        "    print(\"the string is a palindrome.\")\n",
        "else:\n",
        "    print(\"the string is not a palindrome.\")"
      ],
      "metadata": {
        "colab": {
          "base_uri": "https://localhost:8080/"
        },
        "id": "rUnxUBX5pM-4",
        "outputId": "490dd99b-2014-4458-c8a6-715ad6006d1f"
      },
      "execution_count": null,
      "outputs": [
        {
          "output_type": "stream",
          "name": "stdout",
          "text": [
            "the string is a palindrome.\n"
          ]
        }
      ]
    },
    {
      "cell_type": "code",
      "source": [
        "#Q17\n",
        "num = int(input(\"enter a number :\"))\n",
        "sum = 0\n",
        "temp = num\n",
        "while temp > 0:\n",
        "    digit = temp % 10\n",
        "    sum += digit ** 3\n",
        "    temp //= 10\n",
        "if num == sum:\n",
        "    print(num,\"is an Armstrong number\")\n",
        "else:\n",
        "    print(num,\"is not anArmstrong number\")"
      ],
      "metadata": {
        "colab": {
          "base_uri": "https://localhost:8080/"
        },
        "id": "kyPJPKPypNTM",
        "outputId": "87cec325-f684-454d-cc95-3ad51d033d36"
      },
      "execution_count": null,
      "outputs": [
        {
          "output_type": "stream",
          "name": "stdout",
          "text": [
            "enter a number :153\n",
            "153 is an Armstrong number\n"
          ]
        }
      ]
    },
    {
      "cell_type": "code",
      "source": [
        "#Q18\n",
        "import math\n",
        "\n",
        "print(\"the gcd of 60 and 48 is : \",end=\"\")\n",
        "print(math.gcd(60, 48))"
      ],
      "metadata": {
        "colab": {
          "base_uri": "https://localhost:8080/"
        },
        "id": "uurOclIrpNiP",
        "outputId": "a531abb9-196e-43d6-8246-0a76eb49f7c4"
      },
      "execution_count": null,
      "outputs": [
        {
          "output_type": "stream",
          "name": "stdout",
          "text": [
            "the gcd of 60 and 48 is : 12\n"
          ]
        }
      ]
    },
    {
      "cell_type": "code",
      "source": [
        "#Q19\n",
        "\n",
        "def add(x, y):\n",
        "    return x + y\n",
        "def substract(x, y):\n",
        "    return x - y\n",
        "def multiply(x, y):\n",
        "    return x * y\n",
        "def divide(x, y):\n",
        "    return x / y\n",
        "print(\"select Operation.\")\n",
        "print(\"a.add\")\n",
        "print(\"b.substract\")\n",
        "print(\"c.multiply\")\n",
        "print(\"d.divide\")\n",
        "while True:\n",
        "    choice = input(\"enter choice(1/2/3/4): \")\n",
        "    if choice in ('1','2','3','4'):\n",
        "        num1 = float(input(\"Enter a first number :\"))\n",
        "        num2 = float(input(\"Enter a second number :\"))\n",
        "        if choice == '1':\n",
        "            print(num1, \"+\", num2, \"=\", add(num1, num2))\n",
        "        elif choice == '2':\n",
        "            print(num1, \"-\", num2, \"=\", substract(num1, num2))\n",
        "        elif choice == '3':\n",
        "            print(num1, \"*\", num2, \"=\", multiply(num1, num2))\n",
        "        elif choice == '4':\n",
        "            print(num1, \"/\", num2, \"=\", divide(num1, num2))\n",
        "        break\n",
        "    else:\n",
        "        print(\"invalid choice\")"
      ],
      "metadata": {
        "colab": {
          "base_uri": "https://localhost:8080/"
        },
        "id": "zW8PaYCcpW_D",
        "outputId": "85173f2a-aed4-486a-bc90-31e8d905a572"
      },
      "execution_count": null,
      "outputs": [
        {
          "output_type": "stream",
          "name": "stdout",
          "text": [
            "select Operation.\n",
            "a.add\n",
            "b.substract\n",
            "c.multiply\n",
            "d.divide\n",
            "enter choice(1/2/3/4): 1\n",
            "Enter a first number :10\n",
            "Enter a second number :20\n",
            "10.0 + 20.0 = 30.0\n"
          ]
        }
      ]
    },
    {
      "cell_type": "code",
      "source": [
        "#Q20\n",
        "def DecimalToBinary(num):\n",
        "\n",
        "    if num >= 1:\n",
        "        DecimalToBinary(num//2)\n",
        "    print(num % 2, end = '')\n",
        "if __name__ == '__main__':\n",
        "    dec_val = 24\n",
        "    DecimalToBinary(dec_val)\n",
        "\n"
      ],
      "metadata": {
        "colab": {
          "base_uri": "https://localhost:8080/"
        },
        "id": "sgSunrGspcWg",
        "outputId": "5e1a9ca6-28e8-404a-b040-18062753bbe6"
      },
      "execution_count": null,
      "outputs": [
        {
          "output_type": "stream",
          "name": "stdout",
          "text": [
            "011000"
          ]
        }
      ]
    },
    {
      "cell_type": "code",
      "source": [
        "#Q21\n",
        "\n",
        "x = [[12,7,3],\n",
        "    [4,5,6],\n",
        "    [7,8,9]]\n",
        "Y = [[5,8,1],\n",
        "    [6,7,3],\n",
        "    [4,5,9]]\n",
        "result = [[0,0,0],\n",
        "         [0,0,0],\n",
        "         [0,0,0]]\n",
        "for i in range(len(x)):\n",
        "    for j in range(len(x[0])):\n",
        "        result[i][j] = x[i][j] + Y[i][j]\n",
        "for r in result:\n",
        "    print(r)"
      ],
      "metadata": {
        "colab": {
          "base_uri": "https://localhost:8080/"
        },
        "id": "Wfph6xUfpcrZ",
        "outputId": "38ed0a2a-02a7-4b1e-ead1-8c3f41da0820"
      },
      "execution_count": null,
      "outputs": [
        {
          "output_type": "stream",
          "name": "stdout",
          "text": [
            "[17, 15, 4]\n",
            "[10, 12, 9]\n",
            "[11, 13, 18]\n"
          ]
        }
      ]
    },
    {
      "cell_type": "code",
      "source": [
        "#Q22\n"
      ],
      "metadata": {
        "id": "6y9iiNzlpc-X"
      },
      "execution_count": null,
      "outputs": []
    },
    {
      "cell_type": "code",
      "source": [
        "#Q23\n",
        "def Split(listOne):\n",
        "    even = []\n",
        "    odd = []\n",
        "    for i in listOne:\n",
        "        if(i % 2 == 0):\n",
        "            even.append(i)\n",
        "    print(\"even lists:\",even)\n",
        "def Split(listTwo):\n",
        "    even = []\n",
        "    odd = []\n",
        "    for j in listTwo:\n",
        "        if(j % 2 != 0):\n",
        "            odd.append(j)\n",
        "    print(\"Odd lists:\",odd)\n",
        "listOne = [3,6,9,12,15,28,21]\n",
        "listTwo = [4,8,12,16,20,24,28]\n",
        "Split(listOne)\n",
        "Split(listTwo)"
      ],
      "metadata": {
        "colab": {
          "base_uri": "https://localhost:8080/"
        },
        "id": "G37PWT3Sp4DX",
        "outputId": "42dc655b-c16b-4225-f7a5-a18bfb987b37"
      },
      "execution_count": null,
      "outputs": [
        {
          "output_type": "stream",
          "name": "stdout",
          "text": [
            "Odd lists: [3, 9, 15, 21]\n",
            "Odd lists: []\n"
          ]
        }
      ]
    },
    {
      "cell_type": "code",
      "source": [
        "#Q24\n",
        "def remove(list1,pos):\n",
        "    newlist = []\n",
        "    for x in range(len(list1)):\n",
        "        if x != pos:\n",
        "            newlist.append(list1[x])\n",
        "    print(*newlist)\n",
        "list1 = [54,44,27,79,91,41]\n",
        "pos = 4\n",
        "remove(list1, pos)\n",
        "list1.insert(-0,91)\n",
        "print(list1)"
      ],
      "metadata": {
        "colab": {
          "base_uri": "https://localhost:8080/"
        },
        "id": "bvrCrJVRp7tV",
        "outputId": "6f60dde1-cf1e-489a-8aab-b6cac4c58579"
      },
      "execution_count": null,
      "outputs": [
        {
          "output_type": "stream",
          "name": "stdout",
          "text": [
            "54 44 27 79 41\n",
            "[91, 54, 44, 27, 79, 91, 41]\n"
          ]
        }
      ]
    },
    {
      "cell_type": "code",
      "source": [
        "#Q25\n",
        "firstlist={2,3,4,5,6,7,8}\n",
        "secondlist={4,9,16,25,36,49,64}\n",
        "result=[(i,j) for i in firstlist for j in secondlist if i != j]\n",
        "print(result)"
      ],
      "metadata": {
        "colab": {
          "base_uri": "https://localhost:8080/"
        },
        "id": "Z_Ndw7M1p8IC",
        "outputId": "7f2a0769-b8b1-461a-f0e1-da9144f7d822"
      },
      "execution_count": null,
      "outputs": [
        {
          "output_type": "stream",
          "name": "stdout",
          "text": [
            "[(2, 64), (2, 16), (2, 49), (2, 4), (2, 36), (2, 9), (2, 25), (3, 64), (3, 16), (3, 49), (3, 4), (3, 36), (3, 9), (3, 25), (4, 64), (4, 16), (4, 49), (4, 36), (4, 9), (4, 25), (5, 64), (5, 16), (5, 49), (5, 4), (5, 36), (5, 9), (5, 25), (6, 64), (6, 16), (6, 49), (6, 4), (6, 36), (6, 9), (6, 25), (7, 64), (7, 16), (7, 49), (7, 4), (7, 36), (7, 9), (7, 25), (8, 64), (8, 16), (8, 49), (8, 4), (8, 36), (8, 9), (8, 25)]\n"
          ]
        }
      ]
    },
    {
      "cell_type": "code",
      "source": [
        "#Q26 implement stack\n",
        "\n",
        "stack = []\n",
        "\n",
        "stack.append('a')\n",
        "stack.append('b')\n",
        "stack.append('c')\n",
        "print('Initial Stack')\n",
        "print(stack)\n",
        "\n",
        "print('\\nElements poped from stack:')\n",
        "print(stack.pop())\n",
        "print(stack.pop())\n",
        "print(stack.pop())\n",
        "print('\\nStack after elements are poped:')\n",
        "print(stack)"
      ],
      "metadata": {
        "colab": {
          "base_uri": "https://localhost:8080/"
        },
        "id": "Wy0xeRu8p8To",
        "outputId": "9fb0b062-e397-46c1-a739-968bcd6c1792"
      },
      "execution_count": null,
      "outputs": [
        {
          "output_type": "stream",
          "name": "stdout",
          "text": [
            "Initial Stack\n",
            "['a', 'b', 'c']\n",
            "\n",
            "Elements poped from stack:\n",
            "c\n",
            "b\n",
            "a\n",
            "\n",
            "Stack after elements are poped:\n",
            "[]\n"
          ]
        }
      ]
    },
    {
      "cell_type": "code",
      "source": [
        "#Q27 implement Queue\n",
        "queue = []\n",
        "\n",
        "queue.append('a')\n",
        "queue.append('b')\n",
        "queue.append('c')\n",
        "print('\\nInitial Queue')\n",
        "print(queue)\n",
        "\n",
        "print('\\nElement dequeued from queue')\n",
        "print(queue.pop(0))\n",
        "print(queue.pop(0))\n",
        "print(queue.pop(0))\n",
        "print('\\nQueue after removing elements')\n",
        "print(queue)"
      ],
      "metadata": {
        "colab": {
          "base_uri": "https://localhost:8080/"
        },
        "id": "scqUVOlKqG1X",
        "outputId": "83f98e5e-335a-4f4d-ae4c-a2a04714219f"
      },
      "execution_count": null,
      "outputs": [
        {
          "output_type": "stream",
          "name": "stdout",
          "text": [
            "\n",
            "Initial Queue\n",
            "['a', 'b', 'c']\n",
            "\n",
            "Element dequeued from queue\n",
            "a\n",
            "b\n",
            "c\n",
            "\n",
            "Queue after removing elements\n",
            "[]\n"
          ]
        }
      ]
    },
    {
      "cell_type": "code",
      "source": [
        "#Q28 implement linked list\n",
        "class Node:\n",
        "    def __init__(self, dataval=None):\n",
        "        self.dataval = dataval\n",
        "        self.nextval = None\n",
        "\n",
        "class SLinkedList:\n",
        "    def __init__(self):\n",
        "        self.headval = None\n",
        "\n",
        "list1 = SLinkedList()\n",
        "list1.headval = Node(\"mon\")\n",
        "e2 = Node(\"tue\")\n",
        "e3 = Node(\"wed\")\n",
        "\n",
        "list1.headval.nextval = e2\n",
        "\n",
        "e2.nextval = e3"
      ],
      "metadata": {
        "id": "-GH0183YqLc5"
      },
      "execution_count": null,
      "outputs": []
    },
    {
      "cell_type": "code",
      "source": [
        "#Q29\n",
        "\n",
        "def bubblesort(list):\n",
        "\n",
        "    for iter_num in range(len(list)-1,0,-1):\n",
        "        for idx in range(iter_num):\n",
        "            if list[idx]>list[idx+1]:\n",
        "                temp = list[idx]\n",
        "                list[idx] = list[idx+1]\n",
        "                list[idx+1] = temp\n",
        "\n",
        "list = [19,2,31,45,6,11,121,27]\n",
        "bubblesort(list)\n",
        "print(list)"
      ],
      "metadata": {
        "colab": {
          "base_uri": "https://localhost:8080/"
        },
        "id": "cxvq3BwRqO3p",
        "outputId": "f1335513-c968-40f9-a9fe-79dd6318dd7f"
      },
      "execution_count": null,
      "outputs": [
        {
          "output_type": "stream",
          "name": "stdout",
          "text": [
            "[2, 6, 11, 19, 27, 31, 45, 121]\n"
          ]
        }
      ]
    },
    {
      "cell_type": "code",
      "source": [
        "def insertion_sort(InputList):\n",
        "    for i in range(1,len(InputList)):\n",
        "        j = i-1\n",
        "        nxt_element = InputList[i]\n",
        "\n",
        "        while(InputList[j] > nxt_element) and (j >= 0):\n",
        "            InputList[j+1] = InputList[j]\n",
        "            j = j - 1\n",
        "        InputList[j+1] = nxt_element\n",
        "\n",
        "list = [19,2,31,45,30,11,121,27]\n",
        "insertion_sort(list)\n",
        "print(list)"
      ],
      "metadata": {
        "colab": {
          "base_uri": "https://localhost:8080/"
        },
        "id": "96-hEi6GqSGp",
        "outputId": "827e4a7f-a0d4-4875-8064-e47d7d73dcc2"
      },
      "execution_count": null,
      "outputs": [
        {
          "output_type": "stream",
          "name": "stdout",
          "text": [
            "[2, 11, 19, 27, 30, 31, 45, 121]\n"
          ]
        }
      ]
    },
    {
      "cell_type": "code",
      "source": [
        "def selection_sort(input_list):\n",
        "\n",
        "    for idx in range(len(input_list)):\n",
        "\n",
        "        min_idx = idx\n",
        "        for j in range(idx +1, len(input_list)):\n",
        "            if input_list[min_idx] > input_list[j]:\n",
        "                min_idx = j\n",
        "\n",
        "                input_list[idx], input_list[min_idx] = input_list[min_idx], input_list[idx]\n",
        "\n",
        "l = [19,2,31,45,30,11,121,27]\n",
        "selection_sort(l)\n",
        "print(l)"
      ],
      "metadata": {
        "colab": {
          "base_uri": "https://localhost:8080/"
        },
        "id": "J_h-ym-hqSYg",
        "outputId": "3f6280b7-945b-40ca-9da1-8fcc83f7d8e7"
      },
      "execution_count": null,
      "outputs": [
        {
          "output_type": "stream",
          "name": "stdout",
          "text": [
            "[11, 2, 27, 19, 30, 31, 45, 121]\n"
          ]
        }
      ]
    },
    {
      "cell_type": "code",
      "source": [
        "#Q30\n",
        "def liner_search(values, search_for):\n",
        "    search_at = 0\n",
        "    search_res = False\n",
        "\n",
        "    while search_at < len(values) and search_res is False:\n",
        "        if values[search_at] == search_for:\n",
        "            search_res = True\n",
        "        else:\n",
        "            search_at += 1  # Corrected from `search = search_at + 1`\n",
        "\n",
        "    return search_res\n",
        "\n",
        "l = [64, 34, 25, 12, 22, 11, 90]\n",
        "\n",
        "\n",
        "print(liner_search(l, 12))\n",
        "print(liner_search(l, 91))"
      ],
      "metadata": {
        "colab": {
          "base_uri": "https://localhost:8080/"
        },
        "id": "kjrtg2CprQfZ",
        "outputId": "8c2b254c-2501-4770-ccef-ec68598a0401"
      },
      "execution_count": null,
      "outputs": [
        {
          "output_type": "stream",
          "name": "stdout",
          "text": [
            "True\n",
            "False\n"
          ]
        }
      ]
    }
  ]
}